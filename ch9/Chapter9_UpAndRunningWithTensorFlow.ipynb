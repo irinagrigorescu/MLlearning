{
 "cells": [
  {
   "cell_type": "markdown",
   "metadata": {},
   "source": [
    "# Up and Running with TensorFlow"
   ]
  },
  {
   "cell_type": "code",
   "execution_count": 9,
   "metadata": {},
   "outputs": [
    {
     "name": "stdout",
     "output_type": "stream",
     "text": [
      "1.5.1\n"
     ]
    }
   ],
   "source": [
    "### SETUP\n",
    "\n",
    "# Numpy\n",
    "import numpy as np\n",
    "\n",
    "# Scikit learn \n",
    "from sklearn.datasets import fetch_california_housing\n",
    "\n",
    "# TensorFlow\n",
    "import tensorflow as tf\n",
    "print(tf.__version__)"
   ]
  },
  {
   "cell_type": "code",
   "execution_count": 2,
   "metadata": {},
   "outputs": [],
   "source": [
    "### Creating a computation graph\n",
    "\n",
    "# Reset graph \n",
    "tf.reset_default_graph()\n",
    "\n",
    "# Create the graph with 2 variables and \n",
    "x = tf.Variable(3, name=\"x\")\n",
    "y = tf.Variable(4, name=\"y\")\n",
    "# the graph itself\n",
    "f = x*x*y + y + 2"
   ]
  },
  {
   "cell_type": "code",
   "execution_count": 3,
   "metadata": {},
   "outputs": [
    {
     "name": "stdout",
     "output_type": "stream",
     "text": [
      "42\n"
     ]
    }
   ],
   "source": [
    "### Evaluate the graph (1)\n",
    "\n",
    "# Open a TF session\n",
    "sess = tf.Session()\n",
    "# Initialise variables in the session\n",
    "sess.run(x.initializer)\n",
    "sess.run(y.initializer)\n",
    "# Evaluate f in the session\n",
    "result = sess.run(f)\n",
    "# Print result\n",
    "print(result)\n",
    "# Close session\n",
    "sess.close()"
   ]
  },
  {
   "cell_type": "code",
   "execution_count": 4,
   "metadata": {},
   "outputs": [
    {
     "name": "stdout",
     "output_type": "stream",
     "text": [
      "42\n"
     ]
    }
   ],
   "source": [
    "### Evaluate the graph in an easier way (2)\n",
    "\n",
    "with tf.Session() as sess:\n",
    "    x.initializer.run()\n",
    "    y.initializer.run()\n",
    "    result = f.eval()\n",
    "    \n",
    "print(result)"
   ]
  },
  {
   "cell_type": "code",
   "execution_count": 5,
   "metadata": {},
   "outputs": [
    {
     "name": "stdout",
     "output_type": "stream",
     "text": [
      "True\n",
      "True\n",
      "False\n"
     ]
    }
   ],
   "source": [
    "### Managing graphs\n",
    "\n",
    "# Reset graph so it does not end up containing duplicate nodes\n",
    "tf.reset_default_graph()\n",
    "\n",
    "# Create variable\n",
    "x1 = tf.Variable(1)\n",
    "# Will be in default graph\n",
    "print(x1.graph is tf.get_default_graph())\n",
    "\n",
    "# Create new graph \n",
    "graph = tf.Graph()\n",
    "# and temporarily make it the default graph inside a block\n",
    "with graph.as_default():\n",
    "    x2 = tf.Variable(2)\n",
    "# Will print True as it is of graph\n",
    "print(x2.graph is graph)\n",
    "# Will print False as it is not the default graph\n",
    "print(x2.graph is tf.get_default_graph())"
   ]
  },
  {
   "cell_type": "code",
   "execution_count": 6,
   "metadata": {},
   "outputs": [
    {
     "name": "stdout",
     "output_type": "stream",
     "text": [
      "10\n",
      "15\n",
      "10\n",
      "15\n"
     ]
    }
   ],
   "source": [
    "### Lifecycle of a Node Value\n",
    "\n",
    "# Reset graph \n",
    "tf.reset_default_graph()\n",
    "\n",
    "w = tf.constant(3)\n",
    "x = w+2\n",
    "y = x+5\n",
    "z = x*3\n",
    "\n",
    "# Runs them separately, meaning that it evaluates w and x twice\n",
    "with tf.Session() as sess:\n",
    "    print(y.eval())\n",
    "    print(z.eval())\n",
    "    \n",
    "# Runs them efficiently in one graph run\n",
    "with tf.Session() as sess:\n",
    "    y_val, z_val = sess.run([y, z])\n",
    "    print(y_val)\n",
    "    print(z_val)\n"
   ]
  },
  {
   "cell_type": "markdown",
   "metadata": {},
   "source": [
    "## Linear Regression with TensorFlow"
   ]
  },
  {
   "cell_type": "code",
   "execution_count": 41,
   "metadata": {},
   "outputs": [
    {
     "name": "stdout",
     "output_type": "stream",
     "text": [
      "[[-3.7185181e+01]\n",
      " [ 4.3633747e-01]\n",
      " [ 9.3952334e-03]\n",
      " [-1.0711310e-01]\n",
      " [ 6.4479220e-01]\n",
      " [-4.0338000e-06]\n",
      " [-3.7813708e-03]\n",
      " [-4.2348403e-01]\n",
      " [-4.3721911e-01]]\n"
     ]
    }
   ],
   "source": [
    "# Fetch the California housing dataset\n",
    "housing = fetch_california_housing()\n",
    "# Get the shape of the dataset\n",
    "m, n = housing.data.shape\n",
    "\n",
    "\n",
    "# Add an extra bias input feature x_0 = 1 \n",
    "# to all training instances\n",
    "# housing has 8 features: MedInc, HouseAge, AveRooms, etc\n",
    "# after adding it has 9 features\n",
    "housing_data_plus_bias = np.c_[np.ones((m,1)), housing.data]\n",
    "\n",
    "# Create 2 TensorFlow constant nodes, X and y\n",
    "# to hold the data and the targets\n",
    "# X = 20640 x 9\n",
    "X = tf.constant(housing_data_plus_bias, dtype=tf.float32, name=\"X\")\n",
    "# y = 20640 x 1\n",
    "y = tf.constant(housing.target.reshape(-1,1), dtype=tf.float32, name=\"y\")\n",
    "\n",
    "# Define X^T\n",
    "XT = tf.transpose(X)\n",
    "\n",
    "# Define theta = (X^T X)^-1 X^T y\n",
    "theta = tf.matmul(tf.matmul(tf.matrix_inverse(tf.matmul(XT,X)),XT),y)\n",
    "\n",
    "# Create the session and evaluate theta\n",
    "with tf.Session() as sess: \n",
    "    theta_value = theta.eval()\n",
    "    \n",
    "print(theta_value)"
   ]
  },
  {
   "cell_type": "markdown",
   "metadata": {},
   "source": [
    "## Implementing Gradient Descent"
   ]
  },
  {
   "cell_type": "code",
   "execution_count": null,
   "metadata": {},
   "outputs": [],
   "source": []
  },
  {
   "cell_type": "code",
   "execution_count": null,
   "metadata": {},
   "outputs": [],
   "source": []
  },
  {
   "cell_type": "code",
   "execution_count": null,
   "metadata": {},
   "outputs": [],
   "source": []
  },
  {
   "cell_type": "code",
   "execution_count": null,
   "metadata": {},
   "outputs": [],
   "source": []
  },
  {
   "cell_type": "code",
   "execution_count": null,
   "metadata": {},
   "outputs": [],
   "source": []
  },
  {
   "cell_type": "code",
   "execution_count": null,
   "metadata": {},
   "outputs": [],
   "source": []
  }
 ],
 "metadata": {
  "kernelspec": {
   "display_name": "Python 3",
   "language": "python",
   "name": "python3"
  },
  "language_info": {
   "codemirror_mode": {
    "name": "ipython",
    "version": 3
   },
   "file_extension": ".py",
   "mimetype": "text/x-python",
   "name": "python",
   "nbconvert_exporter": "python",
   "pygments_lexer": "ipython3",
   "version": "3.6.1"
  }
 },
 "nbformat": 4,
 "nbformat_minor": 2
}
