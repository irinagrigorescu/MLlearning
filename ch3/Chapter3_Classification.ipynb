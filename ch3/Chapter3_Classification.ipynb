{
 "cells": [
  {
   "cell_type": "markdown",
   "metadata": {},
   "source": [
    "# Chapter 3 - Classification"
   ]
  },
  {
   "cell_type": "code",
   "execution_count": 1,
   "metadata": {},
   "outputs": [],
   "source": [
    "##### Imports\n",
    "\n",
    "# For the dataset\n",
    "from sklearn.datasets import fetch_mldata\n",
    "\n",
    "# For plotting\n",
    "import matplotlib\n",
    "import matplotlib.pyplot as plt\n",
    "%matplotlib inline\n",
    "\n",
    "# Import numpy\n",
    "import numpy as np\n",
    "\n",
    "# Import classifiers\n",
    "from sklearn.linear_model import SGDClassifier\n",
    "\n",
    "# For cross validation\n",
    "from sklearn.model_selection import cross_val_score\n",
    "from sklearn.model_selection import cross_val_predict\n",
    "\n",
    "# For the confusion matrix\n",
    "from sklearn.metrics import confusion_matrix\n",
    "\n",
    "# For the precision/recall\n",
    "from sklearn.metrics import precision_score, recall_score\n",
    "\n",
    "# For the F1 score\n",
    "from sklearn.metrics import f1_score\n",
    "\n",
    "# For the precision recall curve\n",
    "from sklearn.metrics import precision_recall_curve\n",
    "\n",
    "# For the ROC curve\n",
    "from sklearn.metrics import roc_curve\n",
    "\n",
    "# For the ROC score\n",
    "from sklearn.metrics import roc_auc_score\n",
    "\n",
    "# The Random Forest Classifier\n",
    "from sklearn.ensemble import RandomForestClassifier\n",
    "\n",
    "# KNN Classifier\n",
    "from sklearn.neighbors import KNeighborsClassifier\n",
    "\n",
    "# Scale the inputs\n",
    "from sklearn.preprocessing import StandardScaler\n"
   ]
  },
  {
   "cell_type": "code",
   "execution_count": 2,
   "metadata": {
    "collapsed": true
   },
   "outputs": [],
   "source": [
    "##### Functions\n",
    "# Function to plot precision vs thresholds and\n",
    "#                  recall    vs thresholds\n",
    "def plot_precision_recall_vs_threshold(precisions, recalls, thresholds):\n",
    "    plt.plot(thresholds, precisions[:-1], \"b--\", label=\"Precision\")\n",
    "    plt.plot(thresholds, recalls[:-1], \"g-\", label=\"Recall\")\n",
    "    plt.xlabel(\"Threshold\")\n",
    "    plt.legend(loc=\"upper left\")\n",
    "    plt.ylim([0, 1])\n",
    "    \n",
    "# Function to plot precision vs recall\n",
    "def plot_precision_vs_recall(precisions, recalls):\n",
    "    plt.plot(recalls, precisions, \"b-\")\n",
    "    plt.xlabel(\"Recall\")\n",
    "    plt.ylabel(\"Precision\")\n",
    "    plt.xlim([0, 1])\n",
    "    plt.ylim([0, 1])\n",
    "    \n",
    "# Function to plot TPR vs FPR\n",
    "def plot_roc_curve(fpr, tpr, label=None):\n",
    "    plt.plot(fpr, tpr, linewidth=2, label=label)\n",
    "    plt.plot([0, 1], [0, 1],'k--')\n",
    "    plt.axis([0, 1, 0, 1])\n",
    "    plt.xlabel('False Positive Rate')\n",
    "    plt.ylabel('True Positive Rate')\n",
    "    \n",
    "# Function to plot 2D matrices as images\n",
    "def plot_matrix(matrix_to_plot):\n",
    "    plt.matshow(matrix_to_plot, cmap=plt.cm.gray)\n",
    "    plt.xlabel(\"Actual\")\n",
    "    plt.ylabel(\"Predicted\")\n",
    "    \n",
    "# EXTRA# EXTRA\n",
    "def plot_digits(instances, images_per_row=10, **options):\n",
    "    size = 28\n",
    "    images_per_row = min(len(instances), images_per_row)\n",
    "    images = [instance.reshape(size,size) for instance in instances]\n",
    "    n_rows = (len(instances) - 1) // (images_per_row) + 1\n",
    "    row_images = []\n",
    "    n_empty = n_rows * images_per_row - len(instances)\n",
    "    images.append(np.zeros((size, size * n_empty)))\n",
    "    for row in range(n_rows):\n",
    "        rimages = images[row * images_per_row : (row + 1) * images_per_row]\n",
    "        row_images.append(np.concatenate(rimages, axis=1))\n",
    "    image = np.concatenate(row_images, axis=0)\n",
    "    plt.imshow(image, cmap = matplotlib.cm.binary, **options)\n",
    "    plt.axis(\"off\")\n",
    "\n",
    "# Function to plot one digit    \n",
    "def plot_digit(data):\n",
    "    image = data.reshape(28, 28)\n",
    "    plt.imshow(image, cmap = matplotlib.cm.binary,\n",
    "               interpolation=\"nearest\")\n",
    "    plt.axis(\"off\")\n",
    "\n",
    "# Function to plot example digits\n",
    "def plot_example_digits(X_aa, X_ab, X_ba, X_bb):\n",
    "    plt.figure(figsize=(8,8))\n",
    "    plt.subplot(221); plot_digits(X_aa[:25], images_per_row=5);\n",
    "    plt.subplot(222); plot_digits(X_ab[:25], images_per_row=5);\n",
    "    plt.subplot(223); plot_digits(X_ba[:25], images_per_row=5);\n",
    "    plt.subplot(224); plot_digits(X_bb[:25], images_per_row=5);\n"
   ]
  },
  {
   "cell_type": "markdown",
   "metadata": {
    "collapsed": true
   },
   "source": [
    "## 1. Get the MNIST dataset"
   ]
  },
  {
   "cell_type": "code",
   "execution_count": 3,
   "metadata": {},
   "outputs": [
    {
     "data": {
      "text/plain": [
       "{'COL_NAMES': ['label', 'data'],\n",
       " 'DESCR': 'mldata.org dataset: mnist-original',\n",
       " 'data': array([[0, 0, 0, ..., 0, 0, 0],\n",
       "        [0, 0, 0, ..., 0, 0, 0],\n",
       "        [0, 0, 0, ..., 0, 0, 0],\n",
       "        ..., \n",
       "        [0, 0, 0, ..., 0, 0, 0],\n",
       "        [0, 0, 0, ..., 0, 0, 0],\n",
       "        [0, 0, 0, ..., 0, 0, 0]], dtype=uint8),\n",
       " 'target': array([ 0.,  0.,  0., ...,  9.,  9.,  9.])}"
      ]
     },
     "execution_count": 3,
     "metadata": {},
     "output_type": "execute_result"
    }
   ],
   "source": [
    "# Get the dataset\n",
    "mnist = fetch_mldata('MNIST original')\n",
    "\n",
    "# It is a dictionary of 4 keys\n",
    "mnist"
   ]
  },
  {
   "cell_type": "code",
   "execution_count": 4,
   "metadata": {},
   "outputs": [
    {
     "data": {
      "text/plain": [
       "(70000, 784)"
      ]
     },
     "execution_count": 4,
     "metadata": {},
     "output_type": "execute_result"
    }
   ],
   "source": [
    "# Look at the shape of the data\n",
    "X,y = mnist[\"data\"], mnist[\"target\"]\n",
    "X.shape"
   ]
  },
  {
   "cell_type": "markdown",
   "metadata": {},
   "source": [
    "### Look at a digit"
   ]
  },
  {
   "cell_type": "code",
   "execution_count": 5,
   "metadata": {},
   "outputs": [
    {
     "data": {
      "image/png": "[encoded data removed]",
      "text/plain": [
       "<matplotlib.figure.Figure at 0x114938e48>"
      ]
     },
     "metadata": {},
     "output_type": "display_data"
    },
    {
     "data": {
      "text/plain": [
       "5.0"
      ]
     },
     "execution_count": 5,
     "metadata": {},
     "output_type": "execute_result"
    }
   ],
   "source": [
    "# Choose a digit\n",
    "some_idx = 36000\n",
    "some_digit = X[some_idx]\n",
    "\n",
    "# Plot digit\n",
    "plot_digit(some_digit)\n",
    "plt.show()\n",
    "y[some_idx]"
   ]
  },
  {
   "cell_type": "markdown",
   "metadata": {
    "collapsed": true
   },
   "source": [
    "### The train-test split already exists in the dataset itself"
   ]
  },
  {
   "cell_type": "code",
   "execution_count": 6,
   "metadata": {
    "collapsed": true
   },
   "outputs": [],
   "source": [
    "# First 60,000 are for train\n",
    "# Last  10,000 are for test\n",
    "X_train, X_test, y_train, y_test = X[:60000], X[60000:], y[:60000], y[60000:]"
   ]
  },
  {
   "cell_type": "code",
   "execution_count": 7,
   "metadata": {
    "collapsed": true
   },
   "outputs": [],
   "source": [
    "# Shuffle the data in the training set to guarantee cross-validation folds\n",
    "\n",
    "# Permute the indices from 0 59,999\n",
    "shuffle_index = np.random.permutation(60000)\n",
    "X_train, y_train = X_train[shuffle_index], y_train[shuffle_index]"
   ]
  },
  {
   "cell_type": "markdown",
   "metadata": {
    "collapsed": true
   },
   "source": [
    "## 2. Training a Binary Classifier"
   ]
  },
  {
   "cell_type": "code",
   "execution_count": 8,
   "metadata": {},
   "outputs": [
    {
     "data": {
      "text/plain": [
       "array([ True], dtype=bool)"
      ]
     },
     "execution_count": 8,
     "metadata": {},
     "output_type": "execute_result"
    }
   ],
   "source": [
    "# We are training a binary classifier for 5 and not-5\n",
    "y_train_5 = (y_train == 5)\n",
    "y_test_5  = (y_test == 5)\n",
    "\n",
    "### Train a stochastic gradient descent classifier\n",
    "\n",
    "# Create the SGD classifier object\n",
    "sgd_clf = SGDClassifier(random_state=42)\n",
    "# Fit the classifier\n",
    "sgd_clf.fit(X_train, y_train_5)\n",
    "# Predict a digit (the one chosen above)\n",
    "sgd_clf.predict([some_digit])\n"
   ]
  },
  {
   "cell_type": "markdown",
   "metadata": {
    "collapsed": true
   },
   "source": [
    "### Performance Measures\n",
    "#### Measuring Accuracy Using Cross-Validation\n",
    "\n",
    "Doing cross validation gives above 90% accuracy.\n",
    "\n",
    "However, you can achieve 90% accuracy using a dumb classifier \n",
    "that only gives False all the time,\n",
    "because the dataset is skewed, \n",
    "meaning it has about 10% 5s and 90% not-5s."
   ]
  },
  {
   "cell_type": "code",
   "execution_count": 9,
   "metadata": {},
   "outputs": [
    {
     "data": {
      "text/plain": [
       "array([ 0.96365,  0.96685,  0.95055])"
      ]
     },
     "execution_count": 9,
     "metadata": {},
     "output_type": "execute_result"
    }
   ],
   "source": [
    "# Performs cross validation cv-fold (here set to 3) and returns the \"accuracy\" scores\n",
    "cross_val_score(sgd_clf, X_train, y_train_5, cv=3, scoring=\"accuracy\")"
   ]
  },
  {
   "cell_type": "markdown",
   "metadata": {
    "collapsed": true
   },
   "source": [
    "### Confusion Matrix\n",
    "\n",
    "A confusion matrix would count the number of times instances of class A have been classified as class B.\n",
    "\n",
    "![alt text](confusionmatrix.png \"A confusion matrix example\")\n"
   ]
  },
  {
   "cell_type": "code",
   "execution_count": 10,
   "metadata": {},
   "outputs": [
    {
     "data": {
      "text/plain": [
       "array([[53407,  1172],\n",
       "       [ 1207,  4214]])"
      ]
     },
     "execution_count": 10,
     "metadata": {},
     "output_type": "execute_result"
    }
   ],
   "source": [
    "# Similar to cross_val_score, but it returns the predictions\n",
    "# The predictions are made on parts of the training data that were not used for training\n",
    "y_train_pred = cross_val_predict(sgd_clf, X_train, y_train_5, cv=3)\n",
    "\n",
    "# The confusion matrix shows\n",
    "# Each row = actual class | Each column = predicted class\n",
    "# Each row and each column:\n",
    "#   1st row: non-5          |  1st column: non-5\n",
    "#   2nd row:     5          |  2nd column:     5\n",
    "# Or, in matrix form:\n",
    "#   !5_ac vs !5_pred (correctly classified =  True Neg) | !5_ac vs 5_pred (wrongly classified   = False Pos)\n",
    "#    5_ac vs !5_pred (wrongly classified   = Flase Neg) |  5_ac vs 5_pred (correctly classified =  True Pos)\n",
    "confusion_matrix(y_train_5, y_train_pred)\n"
   ]
  },
  {
   "cell_type": "markdown",
   "metadata": {},
   "source": [
    "### Precision and Recall\n",
    "\n",
    "![alt text](precisionrecall.png \"Precision and Recall\")"
   ]
  },
  {
   "cell_type": "code",
   "execution_count": 11,
   "metadata": {},
   "outputs": [
    {
     "data": {
      "text/plain": [
       "0.78239881173412551"
      ]
     },
     "execution_count": 11,
     "metadata": {},
     "output_type": "execute_result"
    }
   ],
   "source": [
    "# Precision = TP / (TP + FP)\n",
    "#           = How many selected items are relevant?\n",
    "#           = the number of correct positive results \n",
    "#             divided by the number of all positive results \n",
    "#             returned by the classifier\n",
    "#           = accuracy of the positive predictions\n",
    "#           = how many times it was correct (true, correctly classified as true) overall\n",
    "precision_score(y_train_5, y_train_pred)"
   ]
  },
  {
   "cell_type": "code",
   "execution_count": 12,
   "metadata": {},
   "outputs": [
    {
     "data": {
      "text/plain": [
       "0.77734735288692125"
      ]
     },
     "execution_count": 12,
     "metadata": {},
     "output_type": "execute_result"
    }
   ],
   "source": [
    "# Recall = TP / (TP + FN)\n",
    "#        = How many relevant items are selected?\n",
    "#        = the number of correct positive results \n",
    "#          divided by the number of all relevant samples \n",
    "#          (all samples that should have been identified as positive). \n",
    "#        = sensitivity or true positive rate\n",
    "#        = how many times it detected the correct class vs the missclassified as negative when it was positive\n",
    "recall_score(y_train_5, y_train_pred)"
   ]
  },
  {
   "cell_type": "markdown",
   "metadata": {
    "collapsed": true
   },
   "source": [
    "### The F1 score\n",
    "\n",
    "#### The F1 score is the harmonic mean of precision and recall\n",
    "\n",
    "F1 = 2 / (1/Precision + 1/Recall) = 2 * (P * R) / (P + R) = TP / (TP + (FN + FP)/2)\n",
    "\n",
    "#### The F1 score is the harmonic average of the precision and recall\n",
    "where an F1 score reaches:\n",
    "* its best value at 1 (perfect precision and recall) and \n",
    "* worst at 0.\n",
    "\n",
    "#### Harmonic mean\n",
    "* The harmonic mean is the reciprocal of the arithmetic mean of the reciprocals.\n",
    "* It is calculated by dividing the number of observations by the reciprocal of each number in the series. \n"
   ]
  },
  {
   "cell_type": "code",
   "execution_count": 13,
   "metadata": {},
   "outputs": [
    {
     "data": {
      "text/plain": [
       "0.77986490237808825"
      ]
     },
     "execution_count": 13,
     "metadata": {},
     "output_type": "execute_result"
    }
   ],
   "source": [
    "f1_score(y_train_5, y_train_pred)"
   ]
  },
  {
   "cell_type": "markdown",
   "metadata": {
    "collapsed": true
   },
   "source": [
    "### Precision/Recall Tradeoff"
   ]
  },
  {
   "cell_type": "code",
   "execution_count": 14,
   "metadata": {},
   "outputs": [
    {
     "data": {
      "text/plain": [
       "array([ -349664.38649795, -1168729.55597637,  -410106.08023772, ...,\n",
       "        -368724.13764491,  -441141.6621102 ,  -588606.57487096])"
      ]
     },
     "execution_count": 14,
     "metadata": {},
     "output_type": "execute_result"
    }
   ],
   "source": [
    "# Retrieve the scores of the classifier\n",
    "# The scores are calculated based on a decision function\n",
    "# And if the score > threshold it assigns to the positive class\n",
    "#     if the score < threshold it assigns to the negative class\n",
    "y_scores = cross_val_predict(sgd_clf, X_train, y_train_5, cv=3, method=\"decision_function\")\n",
    "y_scores"
   ]
  },
  {
   "cell_type": "code",
   "execution_count": 15,
   "metadata": {},
   "outputs": [
    {
     "data": {
      "image/png": "[encoded data removed]",
      "text/plain": [
       "<matplotlib.figure.Figure at 0x113893e48>"
      ]
     },
     "metadata": {},
     "output_type": "display_data"
    }
   ],
   "source": [
    "# Calculate the precisions and recalls for every threshold\n",
    "precisions, recalls, thresholds = precision_recall_curve(y_train_5, y_scores)\n",
    "\n",
    "# Plot the precisions and the recalls for every threshold\n",
    "plot_precision_recall_vs_threshold(precisions, recalls, thresholds)\n"
   ]
  },
  {
   "cell_type": "code",
   "execution_count": 16,
   "metadata": {},
   "outputs": [
    {
     "data": {
      "image/png": "[encoded data removed]",
      "text/plain": [
       "<matplotlib.figure.Figure at 0x11e2a29b0>"
      ]
     },
     "metadata": {},
     "output_type": "display_data"
    }
   ],
   "source": [
    "# Plot precision versus recall\n",
    "plot_precision_vs_recall(precisions, recalls)"
   ]
  },
  {
   "cell_type": "code",
   "execution_count": 17,
   "metadata": {},
   "outputs": [
    {
     "data": {
      "text/plain": [
       "0.87308533916849018"
      ]
     },
     "execution_count": 17,
     "metadata": {},
     "output_type": "execute_result"
    }
   ],
   "source": [
    "y_train_pred_90 = (y_scores > 70000)\n",
    "precision_score(y_train_5, y_train_pred_90)"
   ]
  },
  {
   "cell_type": "code",
   "execution_count": 18,
   "metadata": {},
   "outputs": [
    {
     "data": {
      "text/plain": [
       "0.66242390702822362"
      ]
     },
     "execution_count": 18,
     "metadata": {},
     "output_type": "execute_result"
    }
   ],
   "source": [
    "recall_score(y_train_5, y_train_pred_90)"
   ]
  },
  {
   "cell_type": "markdown",
   "metadata": {},
   "source": [
    "### The Receiver Operating Characteristic (ROC) Curve\n",
    "\n",
    "![alt text](sensitivityspecificity.png \"Sensitivity (Recall) and Specificity\")\n",
    "\n",
    "#### The ROC curve plots \n",
    "* the  True Positive Rate (Sensitivity) vs \n",
    "* the False Positive Rate (1 - Specificity)\n",
    "\n",
    "#### Observations about ROC Curve:\n",
    "* Once again there is a tradeoff: the higher the recall (TPR), the more false positives (FPR) the classifier produces. \n",
    "* The dotted line represents the ROC curve of a purely random classifier.\n",
    "* A good classifier stays as far away from that line as possible (toward the top-left corner)."
   ]
  },
  {
   "cell_type": "code",
   "execution_count": 19,
   "metadata": {},
   "outputs": [
    {
     "data": {
      "image/png": "[encoded data removed]",
      "text/plain": [
       "<matplotlib.figure.Figure at 0x11e1af9b0>"
      ]
     },
     "metadata": {},
     "output_type": "display_data"
    },
    {
     "name": "stdout",
     "output_type": "stream",
     "text": [
      "Area under the ROC curve: 0.959966581445\n"
     ]
    }
   ],
   "source": [
    "fpr, tpr, thresholds = roc_curve(y_train_5, y_scores)\n",
    "\n",
    "plot_roc_curve(fpr, tpr)\n",
    "plt.show()\n",
    "\n",
    "print(\"Area under the ROC curve:\", roc_auc_score(y_train_5, y_scores))"
   ]
  },
  {
   "cell_type": "markdown",
   "metadata": {},
   "source": [
    "#### Observations about whether to use ROC or PR (precision vs recall):\n",
    "* As a rule of thumb, you should prefer the PR curve whenever the positive class is rare or when you care more about the false positives than the false negatives, and the ROC curve otherwise. \n",
    "* For example, looking at the previous ROC curve (and the ROC AUC score), you may think that the classifier is really good. \n",
    "* But this is mostly because there are few positives (5s) compared to the negatives (non-5s). \n",
    "* In contrast, the PR curve makes it clear that the classifier has room for improvement (the curve could be closer to the top-right corner).\n",
    "\n",
    "### Comparison of ROC curves with a Random Forest Classifier\n"
   ]
  },
  {
   "cell_type": "code",
   "execution_count": 20,
   "metadata": {},
   "outputs": [
    {
     "data": {
      "text/plain": [
       "(60000, 2)"
      ]
     },
     "execution_count": 20,
     "metadata": {},
     "output_type": "execute_result"
    }
   ],
   "source": [
    "# Create a random forest classifier object\n",
    "forest_clf = RandomForestClassifier(random_state=42)\n",
    "\n",
    "# Train it => you get probabilities for each class (60,000 x 2 array)\n",
    "y_probas_forest = cross_val_predict(forest_clf, X_train, y_train_5, cv=3, method=\"predict_proba\")\n",
    "\n",
    "y_probas_forest.shape"
   ]
  },
  {
   "cell_type": "code",
   "execution_count": 21,
   "metadata": {},
   "outputs": [],
   "source": [
    "# Get scores for the positive class\n",
    "y_scores_forest = y_probas_forest[:, 1] # score = proba of positive class \n",
    "\n",
    "# Get the ROC curve for the RFC\n",
    "fpr_forest, tpr_forest, thresholds_forest = roc_curve(y_train_5, y_scores_forest)\n"
   ]
  },
  {
   "cell_type": "code",
   "execution_count": 22,
   "metadata": {},
   "outputs": [
    {
     "data": {
      "image/png": "[encoded data removed]",
      "text/plain": [
       "<matplotlib.figure.Figure at 0x1288c8470>"
      ]
     },
     "metadata": {},
     "output_type": "display_data"
    },
    {
     "name": "stdout",
     "output_type": "stream",
     "text": [
      "Area under the ROC curve SGD: 0.959966581445\n",
      "Area under the ROC curve RFC: 0.992514468018\n"
     ]
    }
   ],
   "source": [
    "# Plot them together\n",
    "plt.plot(fpr, tpr, \"b:\", label=\"SGD\")\n",
    "plot_roc_curve(fpr_forest, tpr_forest, \"Random Forest\")\n",
    "plt.legend(loc=\"right\")\n",
    "plt.show()\n",
    "\n",
    "# Areas under the curves:\n",
    "print(\"Area under the ROC curve SGD:\", roc_auc_score(y_train_5, y_scores))\n",
    "print(\"Area under the ROC curve RFC:\", roc_auc_score(y_train_5, y_scores_forest))"
   ]
  },
  {
   "cell_type": "markdown",
   "metadata": {},
   "source": [
    "## 3. Multiclass Classification\n",
    "\n",
    "Multi-class classification for binary classifiers can be achieved in two ways:\n",
    "1. __OvA__ = __One vs All__ strategy, where you train A-vs-Rest, B-vs-Rest, etc. and then choose the class with the highest score among all classifiers.\n",
    "2. __OvO__ = __One vs One__ strategy, where you train A-vs-B, A-vs-C, B-vs-C, etc. and then choose the class with the highest score among all classifiers.\n",
    "    * Does not scale very well - for N classes you need N x (N - 1) / 2 classifiers\n",
    "\n",
    "#### The following code does this:\n",
    "* This code trains the SGDClassifier on the training set using the original target classes from 0 to 9 (y_train), instead of the 5-versus-all target classes (y_train_5). \n",
    "* Then it makes a prediction (a correct one in this case). \n",
    "* Under the hood, Scikit-Learn actually trained 10 binary classifiers, got their decision scores for the image, and selected the class with the highest score."
   ]
  },
  {
   "cell_type": "code",
   "execution_count": 23,
   "metadata": {},
   "outputs": [
    {
     "data": {
      "text/plain": [
       "array([ 5.])"
      ]
     },
     "execution_count": 23,
     "metadata": {},
     "output_type": "execute_result"
    }
   ],
   "source": [
    "# Train on all\n",
    "sgd_clf.fit(X_train, y_train) # y_train, not y_train_5 \n",
    "\n",
    "# Predict for some_digit\n",
    "sgd_clf.predict([some_digit])"
   ]
  },
  {
   "cell_type": "code",
   "execution_count": 24,
   "metadata": {},
   "outputs": [
    {
     "data": {
      "text/plain": [
       "array([[-205593.80327707, -462426.54849797, -120717.022808  ,\n",
       "        -219916.38880543, -356134.26994509,   83574.94034374,\n",
       "        -669281.64924366, -415723.32887839, -577030.37155644,\n",
       "        -697053.00551228]])"
      ]
     },
     "execution_count": 24,
     "metadata": {},
     "output_type": "execute_result"
    }
   ],
   "source": [
    "# Get the scores of the decision functions\n",
    "some_digit_scores = sgd_clf.decision_function([some_digit])\n",
    "# Are indeed 10 scores as it trained 10 OvA classifiers\n",
    "some_digit_scores"
   ]
  },
  {
   "cell_type": "code",
   "execution_count": 25,
   "metadata": {},
   "outputs": [
    {
     "data": {
      "text/plain": [
       "5"
      ]
     },
     "execution_count": 25,
     "metadata": {},
     "output_type": "execute_result"
    }
   ],
   "source": [
    "# Give the class that gives the highest score\n",
    "np.argmax(some_digit_scores)"
   ]
  },
  {
   "cell_type": "code",
   "execution_count": 26,
   "metadata": {},
   "outputs": [
    {
     "data": {
      "text/plain": [
       "array([ 0.,  1.,  2.,  3.,  4.,  5.,  6.,  7.,  8.,  9.])"
      ]
     },
     "execution_count": 26,
     "metadata": {},
     "output_type": "execute_result"
    }
   ],
   "source": [
    "# Shows the classes in the classifier\n",
    "sgd_clf.classes_"
   ]
  },
  {
   "cell_type": "markdown",
   "metadata": {},
   "source": [
    "#### Random forest"
   ]
  },
  {
   "cell_type": "code",
   "execution_count": 27,
   "metadata": {},
   "outputs": [
    {
     "data": {
      "text/plain": [
       "array([ 5.])"
      ]
     },
     "execution_count": 27,
     "metadata": {},
     "output_type": "execute_result"
    }
   ],
   "source": [
    "# Random Forest classifier - does not use OvA or OvO\n",
    "forest_clf.fit(X_train, y_train)\n",
    "forest_clf.predict([some_digit])"
   ]
  },
  {
   "cell_type": "code",
   "execution_count": 28,
   "metadata": {},
   "outputs": [
    {
     "data": {
      "text/plain": [
       "array([[ 0. ,  0. ,  0. ,  0.1,  0. ,  0.8,  0. ,  0. ,  0. ,  0.1]])"
      ]
     },
     "execution_count": 28,
     "metadata": {},
     "output_type": "execute_result"
    }
   ],
   "source": [
    "# The probabilities are stored here:\n",
    "forest_clf.predict_proba([some_digit])"
   ]
  },
  {
   "cell_type": "markdown",
   "metadata": {},
   "source": [
    "#### Evaluate the two classifiers\n",
    "\n",
    "##### SGD"
   ]
  },
  {
   "cell_type": "code",
   "execution_count": 29,
   "metadata": {},
   "outputs": [
    {
     "data": {
      "text/plain": [
       "array([ 0.84793041,  0.87324366,  0.82377357])"
      ]
     },
     "execution_count": 29,
     "metadata": {},
     "output_type": "execute_result"
    }
   ],
   "source": [
    "# Accuracy Score\n",
    "cross_val_score(sgd_clf, X_train, y_train, cv=3, scoring=\"accuracy\")"
   ]
  },
  {
   "cell_type": "code",
   "execution_count": 30,
   "metadata": {},
   "outputs": [
    {
     "data": {
      "text/plain": [
       "array([ 0.90926815,  0.91074554,  0.9073361 ])"
      ]
     },
     "execution_count": 30,
     "metadata": {},
     "output_type": "execute_result"
    }
   ],
   "source": [
    "# Accuracy Score After scaling\n",
    "scaler = StandardScaler()\n",
    "X_train_scaled = scaler.fit_transform(X_train.astype(np.float64))\n",
    "cross_val_score(sgd_clf, X_train_scaled, y_train, cv=3, scoring=\"accuracy\")"
   ]
  },
  {
   "cell_type": "markdown",
   "metadata": {},
   "source": [
    "##### RFC"
   ]
  },
  {
   "cell_type": "code",
   "execution_count": 31,
   "metadata": {},
   "outputs": [
    {
     "data": {
      "text/plain": [
       "array([ 0.94006199,  0.94154708,  0.94204131])"
      ]
     },
     "execution_count": 31,
     "metadata": {},
     "output_type": "execute_result"
    }
   ],
   "source": [
    "# Accuracy Score\n",
    "cross_val_score(forest_clf, X_train, y_train, cv=3, scoring=\"accuracy\")"
   ]
  },
  {
   "cell_type": "code",
   "execution_count": 32,
   "metadata": {},
   "outputs": [
    {
     "data": {
      "text/plain": [
       "array([ 0.93996201,  0.94154708,  0.94214132])"
      ]
     },
     "execution_count": 32,
     "metadata": {},
     "output_type": "execute_result"
    }
   ],
   "source": [
    "# Accuracy Score After scaling\n",
    "cross_val_score(forest_clf, X_train_scaled, y_train, cv=3, scoring=\"accuracy\")"
   ]
  },
  {
   "cell_type": "markdown",
   "metadata": {},
   "source": [
    "### Error Analysis\n",
    "\n",
    "1. First, we will look at the confusion matrix of the predictions"
   ]
  },
  {
   "cell_type": "code",
   "execution_count": 33,
   "metadata": {},
   "outputs": [
    {
     "data": {
      "text/plain": [
       "array([[5737,    2,   20,    9,   10,   44,   49,    8,   39,    5],\n",
       "       [   1, 6465,   51,   27,    6,   40,    8,   10,  121,   13],\n",
       "       [  59,   40, 5310,  107,   89,   23,   93,   59,  161,   17],\n",
       "       [  48,   43,  137, 5342,    3,  232,   36,   53,  133,  104],\n",
       "       [  19,   29,   26,    9, 5392,    9,   57,   27,   84,  190],\n",
       "       [  76,   37,   35,  196,   78, 4583,  117,   27,  168,  104],\n",
       "       [  30,   26,   44,    2,   42,   88, 5635,    5,   46,    0],\n",
       "       [  22,   21,   69,   37,   63,   11,    5, 5787,   16,  234],\n",
       "       [  57,  149,   67,  161,   14,  156,   58,   29, 5012,  148],\n",
       "       [  43,   32,   25,   89,  177,   30,    3,  191,   75, 5284]])"
      ]
     },
     "execution_count": 33,
     "metadata": {},
     "output_type": "execute_result"
    }
   ],
   "source": [
    "# Get the predicted values\n",
    "y_train_pred = cross_val_predict(sgd_clf, X_train_scaled, y_train, cv=3)\n",
    "# Calculate the confusion matrix between actual and predicted\n",
    "conf_mx = confusion_matrix(y_train, y_train_pred)\n",
    "conf_mx"
   ]
  },
  {
   "cell_type": "code",
   "execution_count": 34,
   "metadata": {},
   "outputs": [
    {
     "data": {
      "image/png": "[encoded data removed]",
      "text/plain": [
       "<matplotlib.figure.Figure at 0x128944e80>"
      ]
     },
     "metadata": {},
     "output_type": "display_data"
    }
   ],
   "source": [
    "# Plot the confusion matrix\n",
    "plot_matrix(conf_mx)\n",
    "plt.show()"
   ]
  },
  {
   "cell_type": "markdown",
   "metadata": {},
   "source": [
    "We will now focus on the errors, rather than the absolute values.\n",
    "\n",
    "* Divide each value in the confusion matrix by the number of images in the corresponding class, so you can compare error rates instead of absolute number of errors (which would make abundant classes look unfairly bad)\n",
    "* Fill the diagonal with zeros to keep only the errors"
   ]
  },
  {
   "cell_type": "code",
   "execution_count": 35,
   "metadata": {},
   "outputs": [],
   "source": [
    "# Calculate the sum of the predicted\n",
    "row_sums = conf_mx.sum(axis=1, keepdims=True)\n",
    "# Normalise confusion matrix by row sums\n",
    "norm_conf_mx = conf_mx / row_sums \n",
    "# Fill the diagonal with zeros\n",
    "np.fill_diagonal(norm_conf_mx, 0)"
   ]
  },
  {
   "cell_type": "markdown",
   "metadata": {},
   "source": [
    "#### Observations about the normalised matrix\n",
    "* Remember that rows represent actual classes, while columns represent predicted classes. \n",
    "* The __columns for classes 8 and 9__ are quite bright, which tells you that __many images get misclassified as 8s or 9s__. \n",
    "* Similarly, the __rows for classes 8 and 9__ are also quite bright, telling you that __8s and 9s are often confused with other digits__.\n",
    "* Conversely, some rows are pretty dark, such as row 1: this means that most 1s are classified correctly (a few are confused with 8s, but that’s about it). \n",
    "* Notice that the errors are not perfectly symmetrical; for example, there are more 5s misclassified as 8s than the reverse.\n",
    "\n",
    "\n",
    "\n",
    "* __Analyzing the confusion matrix can often give you insights on ways to improve your classifier.__ \n",
    "* __Looking at this plot, it seems that your efforts should be spent on improving classification of 8s and 9s, as well as fixing the specific 3/5 confusion.__"
   ]
  },
  {
   "cell_type": "code",
   "execution_count": 36,
   "metadata": {},
   "outputs": [
    {
     "data": {
      "image/png": "[encoded data removed]",
      "text/plain": [
       "<matplotlib.figure.Figure at 0x10bef5978>"
      ]
     },
     "metadata": {},
     "output_type": "display_data"
    }
   ],
   "source": [
    "# Plot the normalised matrix\n",
    "plot_matrix(norm_conf_mx)\n",
    "plt.show()"
   ]
  },
  {
   "cell_type": "markdown",
   "metadata": {},
   "source": [
    "#### Let's plot some examples of 3s and 5s"
   ]
  },
  {
   "cell_type": "code",
   "execution_count": 37,
   "metadata": {},
   "outputs": [
    {
     "data": {
      "image/png": "[encoded data removed]",
      "text/plain": [
       "<matplotlib.figure.Figure at 0x12893ff98>"
      ]
     },
     "metadata": {},
     "output_type": "display_data"
    }
   ],
   "source": [
    "# Classes A and B\n",
    "cl_a, cl_b = 3, 5\n",
    "X_aa = X_train[(y_train == cl_a) & (y_train_pred == cl_a)]\n",
    "X_ab = X_train[(y_train == cl_a) & (y_train_pred == cl_b)]\n",
    "X_ba = X_train[(y_train == cl_b) & (y_train_pred == cl_a)]\n",
    "X_bb = X_train[(y_train == cl_b) & (y_train_pred == cl_b)]\n",
    "\n",
    "# # # PLOT THEM\n",
    "plot_example_digits(X_aa, X_ba, X_ab, X_bb)\n",
    "plt.show()\n"
   ]
  },
  {
   "cell_type": "markdown",
   "metadata": {},
   "source": [
    "## Multilabel Classification\n",
    "\n",
    "#### Classification into multiple binary classes\n",
    "\n",
    "For example, a face recognition system would output [1,0,1] for an image where you can find Alice, cannot find Bob, and can find Charlie.\n",
    "\n",
    "#### We will use a K nearest neighbours classifier to say if the digits are small or large (>= 7) and if they are odd or even.\n"
   ]
  },
  {
   "cell_type": "code",
   "execution_count": 38,
   "metadata": {},
   "outputs": [
    {
     "data": {
      "text/plain": [
       "array([[False,  True],\n",
       "       [False, False],\n",
       "       [False,  True],\n",
       "       ..., \n",
       "       [ True,  True],\n",
       "       [False,  True],\n",
       "       [ True,  True]], dtype=bool)"
      ]
     },
     "execution_count": 38,
     "metadata": {},
     "output_type": "execute_result"
    }
   ],
   "source": [
    "# Training labels for big numbers (>=7)\n",
    "y_train_large = (y_train >= 7)\n",
    "\n",
    "# Training labels for odd numbers\n",
    "y_train_odd   = (y_train % 2 == 1)\n",
    "\n",
    "# Concatenate them \n",
    "# np.c_ = Translates slice objects to concatenation along the second axis.\n",
    "y_multilabel = np.c_[y_train_large, y_train_odd]\n",
    "\n",
    "y_multilabel"
   ]
  },
  {
   "cell_type": "code",
   "execution_count": 39,
   "metadata": {},
   "outputs": [
    {
     "data": {
      "text/plain": [
       "KNeighborsClassifier(algorithm='auto', leaf_size=30, metric='minkowski',\n",
       "           metric_params=None, n_jobs=1, n_neighbors=5, p=2,\n",
       "           weights='uniform')"
      ]
     },
     "execution_count": 39,
     "metadata": {},
     "output_type": "execute_result"
    }
   ],
   "source": [
    "# Create KNN classifier\n",
    "knn_clf = KNeighborsClassifier()\n",
    "\n",
    "# Fit on the training data\n",
    "knn_clf.fit(X_train, y_multilabel)"
   ]
  },
  {
   "cell_type": "code",
   "execution_count": 40,
   "metadata": {},
   "outputs": [
    {
     "data": {
      "text/plain": [
       "array([[False,  True]], dtype=bool)"
      ]
     },
     "execution_count": 40,
     "metadata": {},
     "output_type": "execute_result"
    }
   ],
   "source": [
    "# Predict the multi-label for the digit 5\n",
    "knn_clf.predict([some_digit])"
   ]
  },
  {
   "cell_type": "markdown",
   "metadata": {},
   "source": [
    "#### Evaluate the classifier"
   ]
  },
  {
   "cell_type": "code",
   "execution_count": 41,
   "metadata": {
    "collapsed": true
   },
   "outputs": [],
   "source": [
    "# Do cross-validation\n",
    "#y_train_knn_pred = cross_val_predict(knn_clf, X_train, y_train, cv=3)\n",
    "# Calculate F1 score\n",
    "#f1_score(y_train, y_train_knn_pred, average=\"macro\")"
   ]
  },
  {
   "cell_type": "markdown",
   "metadata": {},
   "source": [
    "## Multioutput Classification\n",
    "\n",
    "* __This is known as a multioutput-multiclass classification.__\n",
    "* __It is simply a generalization of multilabel classification where each label can be multiclass (i.e., it can have more than two possible values).__\n",
    "\n",
    "* A good example is to de-noise an image.\n",
    "* The classifier's output is multilabel (one label per pixel), and each label can have multiple values (from 0 to 255).\n",
    "* It is, indeed, a blurry line between classification and regression."
   ]
  },
  {
   "cell_type": "code",
   "execution_count": 42,
   "metadata": {},
   "outputs": [],
   "source": [
    "# Generate noise for the training and testing sets\n",
    "noise_train = np.random.randint(0, 100, (len(X_train), 784))\n",
    "noise_test  = np.random.randint(0, 100, (len(X_test) , 784))\n",
    "\n",
    "# Add noise to training and testing set\n",
    "X_train_mod = X_train + noise_train\n",
    "X_test_mod  = X_test  + noise_test\n",
    "\n",
    "# The outputs are now the de-noised training and testing sets\n",
    "y_train_mod = X_train\n",
    "y_test_mod  = X_test"
   ]
  },
  {
   "cell_type": "code",
   "execution_count": 43,
   "metadata": {},
   "outputs": [
    {
     "data": {
      "image/png": "[encoded data removed]",
      "text/plain": [
       "<matplotlib.figure.Figure at 0x11b1dff60>"
      ]
     },
     "metadata": {},
     "output_type": "display_data"
    }
   ],
   "source": [
    "# Have a look at an image\n",
    "some_index = 5500\n",
    "plt.subplot(121); plot_digit(X_test_mod[some_index])\n",
    "plt.subplot(122); plot_digit(y_test_mod[some_index])"
   ]
  },
  {
   "cell_type": "code",
   "execution_count": 44,
   "metadata": {},
   "outputs": [
    {
     "data": {
      "image/png": "[encoded data removed]",
      "text/plain": [
       "<matplotlib.figure.Figure at 0x11e198ba8>"
      ]
     },
     "metadata": {},
     "output_type": "display_data"
    }
   ],
   "source": [
    "# Fit the KNN classifier\n",
    "knn_clf.fit(X_train_mod, y_train_mod)\n",
    "# Predict the de-noised image\n",
    "clean_digit = knn_clf.predict([X_test_mod[some_index]])\n",
    "# Plot the de-noised image\n",
    "plot_digit(clean_digit)\n",
    "plt.show()\n"
   ]
  },
  {
   "cell_type": "code",
   "execution_count": null,
   "metadata": {
    "collapsed": true
   },
   "outputs": [],
   "source": []
  },
  {
   "cell_type": "code",
   "execution_count": null,
   "metadata": {
    "collapsed": true
   },
   "outputs": [],
   "source": []
  }
 ],
 "metadata": {
  "kernelspec": {
   "display_name": "Python 3",
   "language": "python",
   "name": "python3"
  },
  "language_info": {
   "codemirror_mode": {
    "name": "ipython",
    "version": 3
   },
   "file_extension": ".py",
   "mimetype": "text/x-python",
   "name": "python",
   "nbconvert_exporter": "python",
   "pygments_lexer": "ipython3",
   "version": "3.6.5"
  }
 },
 "nbformat": 4,
 "nbformat_minor": 2
}
